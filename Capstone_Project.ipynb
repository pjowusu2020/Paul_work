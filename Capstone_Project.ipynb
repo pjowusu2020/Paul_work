{
    "cells": [
        {
            "cell_type": "markdown",
            "metadata": {
                "collapsed": true
            },
            "source": "<h1>Data Section</h1>\nThe demographics for the city of Fredericton shows that it is a very big and diverse city comprising many neighbourhoods. Because of its \ndiversity and the culture of the town, a lot of restaurants and coffee shops are expected to be there to meet the demands of the residents and \nvisitors who are attracted by the attractive places within the city. Some actions that go against the peaceful lives of the populace in the\ncity is another thing that needs to be checked. In my work, I made use of the following data:\n    A. On the Fredericton open data platform, I used the following data\n    1. The Neighbourhood data was loaded as a json file and converted to pandas data frame. This data contained coordinates of \n    the various locations within the town\n    Data Source: https://opendata.arcgis.com/datasets/3b3c641af58e4acfbee5603a34297ccf_0.geojson\n    \n    2. The Demographics datasets which comprises of a lot of ID's for the city of Fredericton.\n    Data Source: https://opendata.arcgis.com/datasets/6179d35eacb144a5b5fdcc869f86dfb5_0.geojson\n    \n    3. Fredericton Location data which gives the coordinates of some specific locations in the city. It was downloaded as excel file and \n    loaded into pandas dataframe.\n    Data Source:http://data-fredericton.opendata.arcgis.com/search?tags=planning\n    \n    4. Crime data which was used to explore crimes by specific neighbourhoods within the city. This was also downloaded as an \n    excel file from the Fredericton open data site and loaded into pandas dataframe.\n    Data Source: http://data-fredericton.opendata.arcgis.com/search?tags=planning\n    \n    B. All specific locations of interests in the city of Fredericton:\n    Data Source: Foursquare API\n        \n    C. GeoSpace Data for the city of Fredericton.\n\n"
        },
        {
            "cell_type": "code",
            "execution_count": null,
            "metadata": {},
            "outputs": [],
            "source": ""
        }
    ],
    "metadata": {
        "kernelspec": {
            "display_name": "Python 3.6",
            "language": "python",
            "name": "python3"
        },
        "language_info": {
            "codemirror_mode": {
                "name": "ipython",
                "version": 3
            },
            "file_extension": ".py",
            "mimetype": "text/x-python",
            "name": "python",
            "nbconvert_exporter": "python",
            "pygments_lexer": "ipython3",
            "version": "3.6.9"
        }
    },
    "nbformat": 4,
    "nbformat_minor": 1
}