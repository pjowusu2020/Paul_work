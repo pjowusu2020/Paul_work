{
    "cells": [
        {
            "cell_type": "markdown",
            "metadata": {},
            "source": "<h1> INTRODUCTION</h1>\n\nFredericton is the capital city of the Canadian Province of New Brunswick. The city is situated in the west-central portion of the province along the Saint John River, which flows west to east as it bisects the city. By the 2016 Canadian Census, the city had a population of 58,220. It is the third-largest city in the province after Moncton and Saint John. There are a whole lot of venues and other attractive places in the town including government agencies, two universities. With the number of attractive places and government agencies, there is the need to do some quantitative explorations about some venues within the city. When a town has got so many facilities such as good universities, shopping centers, beaches, etc. leaders of the community are responsible for the peace and harmonious living of individuals and development of the community.\n\nA. Leaders of the town need to ensure that:\n\n1. Crime is under control in the town by finding out the cause of crimes and finding lasting solutions to them\n\n2. Modern tools such as Foursquare and other technologies are used to check the most common venues within the city\n\n3. Dinning places such as coffee shops and other snack shops are placed at vantage areas within the city so that they can be easily accessible to the residents and visitors who will require them during their stay in the town.\n \nB. Before any investor would decide to invest in a business of any kind in a town, they always look to the fact that certain conditions need to be satisfied. When someone is looking to open a restaurant or a contractor is trying to start a business in a town, at least, they make sure that certain factors have been met in the town. Some of these are;\n\n1. The population in the town: For a restaurant to be able to continually provide services to the people, it should get as many customers as possible to dine in it. Undoubtedly, Fredericton has the population to encourage investors into the town. Thus the most densely populated area in the town is ideal place to establish a restaurant.\n2. Investors will always have to make sure that their eating places and places of work are safe from intruders as areas with high crimes will definitely not attract a lot of customers especially at night time.\n\nThese are some of the problems that this project is willing to solve. We will make use of some data from the Fredericton open data site that will help us arrive at some conclusions and recommendations that will help investors make quality and informed \n\n"
        },
        {
            "cell_type": "markdown",
            "metadata": {},
            "source": "<h1>DATA SECTION</h1>\nThe demographics for the city of Fredericton shows that it is a very big and diverse city comprising many neighbourhoods. Because of its \ndiversity and the culture of the town, a lot of restaurants and coffee shops are expected to be there to meet the demands of the residents and \nvisitors who are attracted by the attractive places within the city. Some actions that go against the peaceful lives of the populace in the\ncity is another thing that needs to be checked. In my work, I made use of the following data:\n    A. On the Fredericton open data platform, I used the following data\n    \n    1. The Neighbourhood data was loaded as a json file and converted to pandas data frame. This data contained coordinates of \n    the various locations within the town\n    Data Source: https://opendata.arcgis.com/datasets/3b3c641af58e4acfbee5603a34297ccf_0.geojson\n    \n    2. The Demographics datasets which comprises of a lot of ID's for the city of Fredericton.\n    Data Source: https://opendata.arcgis.com/datasets/6179d35eacb144a5b5fdcc869f86dfb5_0.geojson\n    \n    3. Fredericton Location data which gives the coordinates of some specific locations in the city. It was downloaded as excel file and \n    loaded into pandas dataframe.\n    Data Source:http://data-fredericton.opendata.arcgis.com/search?tags=planning\n    \n    4. Crime data which was used to explore crimes by specific neighbourhoods within the city. This was also downloaded as an \n    excel file from the Fredericton open data site and loaded into pandas dataframe.\n    Data Source: http://data-fredericton.opendata.arcgis.com/search?tags=planning\n    \n    B. All specific locations of interests in the city of Fredericton:\n    Data Source: Foursquare API\n        \n    C. GeoSpace Data for the city of Fredericton.\n"
        },
        {
            "cell_type": "code",
            "execution_count": null,
            "metadata": {},
            "outputs": [],
            "source": ""
        }
    ],
    "metadata": {
        "kernelspec": {
            "display_name": "Python 3.6",
            "language": "python",
            "name": "python3"
        },
        "language_info": {
            "codemirror_mode": {
                "name": "ipython",
                "version": 3
            },
            "file_extension": ".py",
            "mimetype": "text/x-python",
            "name": "python",
            "nbconvert_exporter": "python",
            "pygments_lexer": "ipython3",
            "version": "3.6.9"
        }
    },
    "nbformat": 4,
    "nbformat_minor": 1
}